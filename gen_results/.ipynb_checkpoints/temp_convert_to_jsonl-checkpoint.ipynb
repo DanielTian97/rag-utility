{
 "cells": [
  {
   "cell_type": "code",
   "execution_count": 11,
   "id": "8ca19d2e-701a-43bc-ae30-1fcc00fcb24f",
   "metadata": {},
   "outputs": [],
   "source": [
    "import json\n",
    "\n",
    "def json_to_jsonl(json_file: str, jsonl_file: str):\n",
    "    \"\"\"\n",
    "    Convert a dict-style JSON file into JSON Lines format.\n",
    "    Each key of the dict becomes an \"id\" field in JSONL.\n",
    "    \"\"\"\n",
    "    with open(json_file, \"r\", encoding=\"utf-8\") as f:\n",
    "        data = json.load(f)   # {qid: varying_context_result}\n",
    "\n",
    "    with open(jsonl_file, \"w\", encoding=\"utf-8\") as f:\n",
    "        for qid, varying_context_result in data.items():\n",
    "            record = {\"qid\": qid, **varying_context_result}\n",
    "            f.write(json.dumps(record) + \"\\n\")"
   ]
  },
  {
   "cell_type": "code",
   "execution_count": 14,
   "id": "434d1d96-27c5-4b0a-93dc-a7f647e8121b",
   "metadata": {},
   "outputs": [],
   "source": [
    "_json_file = 'short_answers_3shot_1calls_1_0_mt5_dl_hotpotqa_train_concise.json'\n",
    "_jsonl_file = 'short_answers_3shot_1calls_1_0_mt5_dl_hotpotqa_train_concise.jsonl'\n",
    "json_to_jsonl(_json_file, _jsonl_file)"
   ]
  },
  {
   "cell_type": "code",
   "execution_count": null,
   "id": "7d554f55-7975-4e2e-8fcd-97e639d78122",
   "metadata": {},
   "outputs": [],
   "source": []
  }
 ],
 "metadata": {
  "kernelspec": {
   "display_name": "Python [conda env:base] *",
   "language": "python",
   "name": "conda-base-py"
  },
  "language_info": {
   "codemirror_mode": {
    "name": "ipython",
    "version": 3
   },
   "file_extension": ".py",
   "mimetype": "text/x-python",
   "name": "python",
   "nbconvert_exporter": "python",
   "pygments_lexer": "ipython3",
   "version": "3.10.13"
  }
 },
 "nbformat": 4,
 "nbformat_minor": 5
}
