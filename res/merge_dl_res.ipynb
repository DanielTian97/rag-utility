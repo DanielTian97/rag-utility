{
 "cells": [
  {
   "cell_type": "code",
   "execution_count": 10,
   "id": "27c07b95-0eaa-47c1-86d3-d46a9aacebb3",
   "metadata": {},
   "outputs": [],
   "source": [
    "import pandas as pd\n",
    "\n",
    "retriever = 'tct'\n",
    "res_19 = pd.read_csv(f'./{retriever}_dl_19.csv')\n",
    "res_20 = pd.read_csv(f'./{retriever}_dl_20.csv')\n",
    "res = pd.concat([res_19, res_20], axis=0)\n",
    "res.to_csv(f'./{retriever}_dl.csv', index=False)"
   ]
  },
  {
   "cell_type": "code",
   "execution_count": null,
   "id": "5e20e8ca-2b1d-46f6-bfbb-258e38bd85a7",
   "metadata": {},
   "outputs": [],
   "source": []
  }
 ],
 "metadata": {
  "kernelspec": {
   "display_name": "Python [conda env:base] *",
   "language": "python",
   "name": "conda-base-py"
  },
  "language_info": {
   "codemirror_mode": {
    "name": "ipython",
    "version": 3
   },
   "file_extension": ".py",
   "mimetype": "text/x-python",
   "name": "python",
   "nbconvert_exporter": "python",
   "pygments_lexer": "ipython3",
   "version": "3.10.13"
  }
 },
 "nbformat": 4,
 "nbformat_minor": 5
}
