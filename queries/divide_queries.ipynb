{
 "cells": [
  {
   "cell_type": "code",
   "execution_count": 1,
   "id": "484830bb-0a3b-46de-823d-67c31fa611fc",
   "metadata": {},
   "outputs": [],
   "source": [
    "import pandas as pd"
   ]
  },
  {
   "cell_type": "code",
   "execution_count": 4,
   "id": "9d2f46db-2bdb-41da-bd1a-80f7859bcec1",
   "metadata": {},
   "outputs": [],
   "source": [
    "x = pd.read_csv('./trec_rag_llm_devided_queries.csv')"
   ]
  },
  {
   "cell_type": "code",
   "execution_count": 20,
   "id": "fd3cc20c-dea4-4978-807a-5098074426fd",
   "metadata": {},
   "outputs": [],
   "source": [
    "number = 0\n",
    "for i in range(0, len(x), 200):\n",
    "    x.iloc[i: i+200].to_csv(f'queries_trag_{number}.csv', index=False)\n",
    "    number += 1"
   ]
  },
  {
   "cell_type": "code",
   "execution_count": 33,
   "id": "5ab98ca6-b7e9-4d96-91d9-298aa3c53b25",
   "metadata": {},
   "outputs": [],
   "source": [
    "res = pd.read_csv('../res/trag_25.csv', index_col=0)"
   ]
  },
  {
   "cell_type": "code",
   "execution_count": 34,
   "id": "ff58ac5f-e272-4494-8635-bd57788598ce",
   "metadata": {},
   "outputs": [
    {
     "data": {
      "text/plain": [
       "Index(['qid', 'query', 'docno', 'docid', 'text', 'score', 'rank'], dtype='object')"
      ]
     },
     "execution_count": 34,
     "metadata": {},
     "output_type": "execute_result"
    }
   ],
   "source": [
    "res.columns"
   ]
  },
  {
   "cell_type": "code",
   "execution_count": 46,
   "id": "eb799c6e-61d0-4fd4-9523-df20ed79bcad",
   "metadata": {},
   "outputs": [],
   "source": [
    "res = res.drop(res[res['rank']=='rank'].index)\n",
    "res.to_csv('../res/trag_25.csv', index=False)"
   ]
  },
  {
   "cell_type": "code",
   "execution_count": 43,
   "id": "0237a61b-d2de-4bfe-b516-358a809f292d",
   "metadata": {},
   "outputs": [],
   "source": [
    "doc_text = res[['docno', 'text']].drop_duplicates()"
   ]
  },
  {
   "cell_type": "code",
   "execution_count": 44,
   "id": "b7b781b4-03ec-45be-89e4-5bc83c144a4d",
   "metadata": {},
   "outputs": [],
   "source": [
    "doc_dict = dict(zip(doc_text['docno'], doc_text['text']))"
   ]
  },
  {
   "cell_type": "code",
   "execution_count": 45,
   "id": "3a65da42-5993-479a-b393-6509a86b852a",
   "metadata": {},
   "outputs": [],
   "source": [
    "import pickle\n",
    "\n",
    "with open('../doc_dicts/trag_dict.pkl', 'wb') as f:\n",
    "    pickle.dump(doc_dict, f)"
   ]
  },
  {
   "cell_type": "code",
   "execution_count": 47,
   "id": "e9de8021-51c9-420b-b7d6-dd31e290c915",
   "metadata": {},
   "outputs": [],
   "source": [
    "import torch"
   ]
  },
  {
   "cell_type": "code",
   "execution_count": 48,
   "id": "1b4e443f-ee91-4150-a117-3167d84c9283",
   "metadata": {},
   "outputs": [],
   "source": [
    "torch.cuda.empty_cache()\n"
   ]
  },
  {
   "cell_type": "code",
   "execution_count": 50,
   "id": "ec5e52de-86f4-4a20-931b-1403a766afa2",
   "metadata": {},
   "outputs": [
    {
     "data": {
      "text/plain": [
       "0"
      ]
     },
     "execution_count": 50,
     "metadata": {},
     "output_type": "execute_result"
    }
   ],
   "source": [
    "import gc\n",
    "gc.collect()"
   ]
  },
  {
   "cell_type": "code",
   "execution_count": null,
   "id": "b85e14be-08eb-4900-b29c-b51f10cf0a93",
   "metadata": {},
   "outputs": [],
   "source": []
  }
 ],
 "metadata": {
  "kernelspec": {
   "display_name": "Python [conda env:base] *",
   "language": "python",
   "name": "conda-base-py"
  },
  "language_info": {
   "codemirror_mode": {
    "name": "ipython",
    "version": 3
   },
   "file_extension": ".py",
   "mimetype": "text/x-python",
   "name": "python",
   "nbconvert_exporter": "python",
   "pygments_lexer": "ipython3",
   "version": "3.10.13"
  }
 },
 "nbformat": 4,
 "nbformat_minor": 5
}
